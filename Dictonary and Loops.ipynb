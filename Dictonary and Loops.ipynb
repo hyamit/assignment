{
 "cells": [
  {
   "cell_type": "code",
   "execution_count": 1,
   "id": "e5975f96-8376-4df9-99a0-69540b562141",
   "metadata": {},
   "outputs": [],
   "source": [
    "d={}"
   ]
  },
  {
   "cell_type": "code",
   "execution_count": 2,
   "id": "0b693464-78e4-4f3d-a5ca-206efce46641",
   "metadata": {},
   "outputs": [
    {
     "data": {
      "text/plain": [
       "dict"
      ]
     },
     "execution_count": 2,
     "metadata": {},
     "output_type": "execute_result"
    }
   ],
   "source": [
    "type(d)"
   ]
  },
  {
   "cell_type": "code",
   "execution_count": 3,
   "id": "273e041a-4830-4dc5-9a95-57f6a7b1e193",
   "metadata": {},
   "outputs": [],
   "source": [
    "d1={'name':'Amit'}"
   ]
  },
  {
   "cell_type": "code",
   "execution_count": 4,
   "id": "c5977d0e-8a8a-4ed0-aaf2-8fd282e9d625",
   "metadata": {},
   "outputs": [
    {
     "data": {
      "text/plain": [
       "{'name': 'Amit'}"
      ]
     },
     "execution_count": 4,
     "metadata": {},
     "output_type": "execute_result"
    }
   ],
   "source": [
    "d1"
   ]
  },
  {
   "cell_type": "code",
   "execution_count": 5,
   "id": "d140d176-a570-42e2-a49f-007bddbc96a7",
   "metadata": {},
   "outputs": [
    {
     "data": {
      "text/plain": [
       "dict"
      ]
     },
     "execution_count": 5,
     "metadata": {},
     "output_type": "execute_result"
    }
   ],
   "source": [
    "type(d1)"
   ]
  },
  {
   "cell_type": "code",
   "execution_count": 6,
   "id": "34909173-4abb-415b-bded-a303506a8946",
   "metadata": {},
   "outputs": [],
   "source": [
    "d2={'name':'Amit','email':'abc@gmail.com','mob':858585858}"
   ]
  },
  {
   "cell_type": "code",
   "execution_count": 7,
   "id": "547309b8-e883-4c76-97ab-845f89035785",
   "metadata": {},
   "outputs": [
    {
     "data": {
      "text/plain": [
       "dict"
      ]
     },
     "execution_count": 7,
     "metadata": {},
     "output_type": "execute_result"
    }
   ],
   "source": [
    "type(d2)"
   ]
  },
  {
   "cell_type": "code",
   "execution_count": 8,
   "id": "d78601ce-3cac-4823-b75a-923f66fd1142",
   "metadata": {},
   "outputs": [
    {
     "data": {
      "text/plain": [
       "{'name': 'Amit', 'email': 'abc@gmail.com', 'mob': 858585858}"
      ]
     },
     "execution_count": 8,
     "metadata": {},
     "output_type": "execute_result"
    }
   ],
   "source": [
    "d2"
   ]
  },
  {
   "cell_type": "code",
   "execution_count": 14,
   "id": "91527790-c822-4a47-9bd8-b47e2c70b71a",
   "metadata": {},
   "outputs": [],
   "source": [
    "d3 ={233:'Amit','#hdjh':'Shiv',True:'Bool'}"
   ]
  },
  {
   "cell_type": "code",
   "execution_count": 10,
   "id": "5ffdb10f-f52b-4068-93c6-1a78f39adb79",
   "metadata": {},
   "outputs": [
    {
     "data": {
      "text/plain": [
       "{233: 'Amit', '_hdjh': 'Shiv', True: 'Bool'}"
      ]
     },
     "execution_count": 10,
     "metadata": {},
     "output_type": "execute_result"
    }
   ],
   "source": [
    "d3"
   ]
  },
  {
   "cell_type": "code",
   "execution_count": 12,
   "id": "ca34569a-a0d2-4982-b695-9a737b088918",
   "metadata": {},
   "outputs": [
    {
     "data": {
      "text/plain": [
       "{233: 'Amit', '#hdjh': 'Shiv', True: 'Bool'}"
      ]
     },
     "execution_count": 12,
     "metadata": {},
     "output_type": "execute_result"
    }
   ],
   "source": [
    "d3"
   ]
  },
  {
   "cell_type": "code",
   "execution_count": 19,
   "id": "a5b3d99b-6258-4876-a473-bf7f36b96edb",
   "metadata": {},
   "outputs": [
    {
     "data": {
      "text/plain": [
       "'Shiv'"
      ]
     },
     "execution_count": 19,
     "metadata": {},
     "output_type": "execute_result"
    }
   ],
   "source": [
    "d3['#hdjh']"
   ]
  },
  {
   "cell_type": "code",
   "execution_count": 20,
   "id": "71fae129-d0bb-46c7-9f92-1100c7c2d43b",
   "metadata": {},
   "outputs": [
    {
     "data": {
      "text/plain": [
       "'Bool'"
      ]
     },
     "execution_count": 20,
     "metadata": {},
     "output_type": "execute_result"
    }
   ],
   "source": [
    "d3[1]"
   ]
  },
  {
   "cell_type": "code",
   "execution_count": 21,
   "id": "2edcc71a-f1df-4963-93b2-734b1850dc0f",
   "metadata": {},
   "outputs": [
    {
     "ename": "SyntaxError",
     "evalue": "incomplete input (591587788.py, line 1)",
     "output_type": "error",
     "traceback": [
      "\u001b[0;36m  Cell \u001b[0;32mIn[21], line 1\u001b[0;36m\u001b[0m\n\u001b[0;31m    d4 ={#233:'Amit','#hdjh':'Shiv',True:'Bool'}\u001b[0m\n\u001b[0m                                                ^\u001b[0m\n\u001b[0;31mSyntaxError\u001b[0m\u001b[0;31m:\u001b[0m incomplete input\n"
     ]
    }
   ],
   "source": [
    "d4 ={#233:'Amit','#hdjh':'Shiv',True:'Bool'}"
   ]
  },
  {
   "cell_type": "code",
   "execution_count": 22,
   "id": "1917f269-5605-4f2d-8b6d-8527a2132bba",
   "metadata": {},
   "outputs": [],
   "source": [
    "d4 ={233:'Amit','name':'Shiv',True:'Bool','name':'Shivam'}"
   ]
  },
  {
   "cell_type": "code",
   "execution_count": 23,
   "id": "59a89eb1-e97a-474f-8655-08d736f0cd10",
   "metadata": {},
   "outputs": [
    {
     "data": {
      "text/plain": [
       "{233: 'Amit', 'name': 'Shivam', True: 'Bool'}"
      ]
     },
     "execution_count": 23,
     "metadata": {},
     "output_type": "execute_result"
    }
   ],
   "source": [
    "d4"
   ]
  },
  {
   "cell_type": "code",
   "execution_count": 24,
   "id": "7ddee254-2011-452d-a6af-ed9a7a7a657d",
   "metadata": {},
   "outputs": [
    {
     "ename": "NameError",
     "evalue": "name 'Dev' is not defined",
     "output_type": "error",
     "traceback": [
      "\u001b[0;31m---------------------------------------------------------------------------\u001b[0m",
      "\u001b[0;31mNameError\u001b[0m                                 Traceback (most recent call last)",
      "Cell \u001b[0;32mIn[24], line 1\u001b[0m\n\u001b[0;32m----> 1\u001b[0m d5\u001b[38;5;241m=\u001b[39m{\u001b[38;5;124m'\u001b[39m\u001b[38;5;124mCompany\u001b[39m\u001b[38;5;124m'\u001b[39m:\u001b[38;5;124m'\u001b[39m\u001b[38;5;124mHCL\u001b[39m\u001b[38;5;124m'\u001b[39m,\u001b[38;5;124m'\u001b[39m\u001b[38;5;124mdept\u001b[39m\u001b[38;5;124m'\u001b[39m:[\u001b[43mDev\u001b[49m,Test,HR,Audit,Finance]}\n",
      "\u001b[0;31mNameError\u001b[0m: name 'Dev' is not defined"
     ]
    }
   ],
   "source": [
    "d5={'Company':'HCL','dept':[Dev,Test,HR,Audit,Finance]}"
   ]
  },
  {
   "cell_type": "code",
   "execution_count": 25,
   "id": "f16c6e66-f0c5-42fc-93d1-c1ead3391e5f",
   "metadata": {},
   "outputs": [],
   "source": [
    "d5={'Company':'HCL','dept':['Dev','Test','HR','Audit','Finance']}"
   ]
  },
  {
   "cell_type": "code",
   "execution_count": 26,
   "id": "fed3fa11-4b57-4ffc-88a4-58dd815cc5b3",
   "metadata": {},
   "outputs": [
    {
     "data": {
      "text/plain": [
       "['Dev', 'Test', 'HR', 'Audit', 'Finance']"
      ]
     },
     "execution_count": 26,
     "metadata": {},
     "output_type": "execute_result"
    }
   ],
   "source": [
    "d5['dept']"
   ]
  },
  {
   "cell_type": "code",
   "execution_count": 28,
   "id": "2eb0267b-3690-4b35-bb1c-d7b46689afa1",
   "metadata": {},
   "outputs": [
    {
     "data": {
      "text/plain": [
       "'Finance'"
      ]
     },
     "execution_count": 28,
     "metadata": {},
     "output_type": "execute_result"
    }
   ],
   "source": [
    "d5['dept'][4]"
   ]
  },
  {
   "cell_type": "code",
   "execution_count": 31,
   "id": "3babf109-28ce-479e-9f60-83f87a46c432",
   "metadata": {},
   "outputs": [],
   "source": [
    "d6={'Companies':['HCL','Infy','TCS'],'dept':{'Dev','Test','HR','Audit','Finance'},'Food Court':('f1','f2','f3')}"
   ]
  },
  {
   "cell_type": "code",
   "execution_count": null,
   "id": "67d24d96-9509-406d-a4ed-f0cd5cefd9e4",
   "metadata": {},
   "outputs": [],
   "source": []
  },
  {
   "cell_type": "code",
   "execution_count": 32,
   "id": "be82c838-105a-4e63-8d65-18460b699c89",
   "metadata": {},
   "outputs": [
    {
     "data": {
      "text/plain": [
       "{'Companies': ['HCL', 'Infy', 'TCS'],\n",
       " 'dept': {'Audit', 'Dev', 'Finance', 'HR', 'Test'},\n",
       " 'Food Court': ('f1', 'f2', 'f3')}"
      ]
     },
     "execution_count": 32,
     "metadata": {},
     "output_type": "execute_result"
    }
   ],
   "source": [
    "d6"
   ]
  },
  {
   "cell_type": "code",
   "execution_count": 33,
   "id": "f0d2ed87-b4fd-4410-8204-991dd1cf09d8",
   "metadata": {},
   "outputs": [],
   "source": [
    "d6={'Companies':['HCL','Infy','TCS'],'dept':{'Dev','Test','HR','Audit','Finance'},'Food Court':('f1','f2','f3'),'d5':{'Company':'HCL','dept':['Dev','Test','HR','Audit','Finance']}}"
   ]
  },
  {
   "cell_type": "code",
   "execution_count": null,
   "id": "42008a6f-f1f7-4ed2-a0ff-a37288260f94",
   "metadata": {},
   "outputs": [],
   "source": []
  },
  {
   "cell_type": "code",
   "execution_count": 34,
   "id": "5929a382-40bc-4a94-8cff-cbec80924a99",
   "metadata": {},
   "outputs": [
    {
     "data": {
      "text/plain": [
       "{'Companies': ['HCL', 'Infy', 'TCS'],\n",
       " 'dept': {'Audit', 'Dev', 'Finance', 'HR', 'Test'},\n",
       " 'Food Court': ('f1', 'f2', 'f3'),\n",
       " 'd5': {'Company': 'HCL', 'dept': ['Dev', 'Test', 'HR', 'Audit', 'Finance']}}"
      ]
     },
     "execution_count": 34,
     "metadata": {},
     "output_type": "execute_result"
    }
   ],
   "source": [
    "d6"
   ]
  },
  {
   "cell_type": "code",
   "execution_count": 35,
   "id": "6fc12f82-1637-4322-8804-8ad6d4ff64b7",
   "metadata": {},
   "outputs": [
    {
     "data": {
      "text/plain": [
       "['Dev', 'Test', 'HR', 'Audit', 'Finance']"
      ]
     },
     "execution_count": 35,
     "metadata": {},
     "output_type": "execute_result"
    }
   ],
   "source": [
    "d6['d5']['dept']"
   ]
  },
  {
   "cell_type": "code",
   "execution_count": 37,
   "id": "7a0876d9-cd38-48eb-8a55-9b598190f73f",
   "metadata": {},
   "outputs": [],
   "source": [
    "d6['city']=['Blr','Delhi','Pune']"
   ]
  },
  {
   "cell_type": "code",
   "execution_count": 38,
   "id": "368c0a77-1ee1-46eb-b875-0394589ef885",
   "metadata": {},
   "outputs": [
    {
     "data": {
      "text/plain": [
       "{'Companies': ['HCL', 'Infy', 'TCS'],\n",
       " 'dept': {'Audit', 'Dev', 'Finance', 'HR', 'Test'},\n",
       " 'Food Court': ('f1', 'f2', 'f3'),\n",
       " 'd5': {'Company': 'HCL', 'dept': ['Dev', 'Test', 'HR', 'Audit', 'Finance']},\n",
       " 'city': ['Blr', 'Delhi', 'Pune']}"
      ]
     },
     "execution_count": 38,
     "metadata": {},
     "output_type": "execute_result"
    }
   ],
   "source": [
    "d6"
   ]
  },
  {
   "cell_type": "code",
   "execution_count": 39,
   "id": "088f26d0-b057-471e-82af-8b37acbcbb72",
   "metadata": {},
   "outputs": [],
   "source": [
    "del d6['city']"
   ]
  },
  {
   "cell_type": "code",
   "execution_count": 40,
   "id": "157bd43a-70eb-4caa-8285-fd81a656b86b",
   "metadata": {},
   "outputs": [
    {
     "data": {
      "text/plain": [
       "{'Companies': ['HCL', 'Infy', 'TCS'],\n",
       " 'dept': {'Audit', 'Dev', 'Finance', 'HR', 'Test'},\n",
       " 'Food Court': ('f1', 'f2', 'f3'),\n",
       " 'd5': {'Company': 'HCL', 'dept': ['Dev', 'Test', 'HR', 'Audit', 'Finance']}}"
      ]
     },
     "execution_count": 40,
     "metadata": {},
     "output_type": "execute_result"
    }
   ],
   "source": [
    "d6"
   ]
  },
  {
   "cell_type": "code",
   "execution_count": 44,
   "id": "ab82700a-84c7-4797-b8fa-8d63250b8101",
   "metadata": {},
   "outputs": [
    {
     "data": {
      "text/plain": [
       "[('Companies', ['HCL', 'Infy', 'TCS']),\n",
       " ('dept', {'Audit', 'Dev', 'Finance', 'HR', 'Test'}),\n",
       " ('Food Court', ('f1', 'f2', 'f3')),\n",
       " ('d5', {'Company': 'HCL', 'dept': ['Dev', 'Test', 'HR', 'Audit', 'Finance']})]"
      ]
     },
     "execution_count": 44,
     "metadata": {},
     "output_type": "execute_result"
    }
   ],
   "source": [
    "list(d6.items())"
   ]
  },
  {
   "cell_type": "code",
   "execution_count": 47,
   "id": "d2daa827-9add-41d6-b9ce-ed745de9e515",
   "metadata": {},
   "outputs": [
    {
     "data": {
      "text/plain": [
       "{'Audit', 'Dev', 'Finance', 'HR', 'Test'}"
      ]
     },
     "execution_count": 47,
     "metadata": {},
     "output_type": "execute_result"
    }
   ],
   "source": [
    "d6.pop('dept')"
   ]
  },
  {
   "cell_type": "code",
   "execution_count": 48,
   "id": "0995568d-cd38-4740-a619-89b0435ab66d",
   "metadata": {},
   "outputs": [
    {
     "data": {
      "text/plain": [
       "{'Companies': ['HCL', 'Infy', 'TCS'],\n",
       " 'Food Court': ('f1', 'f2', 'f3'),\n",
       " 'd5': {'Company': 'HCL', 'dept': ['Dev', 'Test', 'HR', 'Audit', 'Finance']}}"
      ]
     },
     "execution_count": 48,
     "metadata": {},
     "output_type": "execute_result"
    }
   ],
   "source": [
    "d6"
   ]
  },
  {
   "cell_type": "code",
   "execution_count": 49,
   "id": "1fab5ad2-bec2-48db-a06e-9231b06c1ea1",
   "metadata": {},
   "outputs": [],
   "source": [
    "l=['amit','shiv','yash']"
   ]
  },
  {
   "cell_type": "code",
   "execution_count": 50,
   "id": "0562bd03-154d-479e-9e56-fa795f2d059d",
   "metadata": {},
   "outputs": [],
   "source": [
    "l1=[]"
   ]
  },
  {
   "cell_type": "code",
   "execution_count": 54,
   "id": "c08c283b-66a7-4fa2-9469-53baa5791342",
   "metadata": {},
   "outputs": [
    {
     "name": "stdout",
     "output_type": "stream",
     "text": [
      "amit\n",
      "shiv\n",
      "yash\n"
     ]
    }
   ],
   "source": [
    "for i in l:\n",
    "    print(i)\n",
    "    l1.append(i.upper())"
   ]
  },
  {
   "cell_type": "code",
   "execution_count": 55,
   "id": "f50c853c-bf64-46e2-b3ec-0a68e9d29f91",
   "metadata": {},
   "outputs": [
    {
     "data": {
      "text/plain": [
       "['AMIT', 'SHIV', 'YASH']"
      ]
     },
     "execution_count": 55,
     "metadata": {},
     "output_type": "execute_result"
    }
   ],
   "source": [
    "l1"
   ]
  },
  {
   "cell_type": "code",
   "execution_count": 56,
   "id": "a506835a-09a0-41ff-b53a-30e97a21d956",
   "metadata": {},
   "outputs": [
    {
     "data": {
      "text/plain": [
       "['amit', 'shiv', 'yash']"
      ]
     },
     "execution_count": 56,
     "metadata": {},
     "output_type": "execute_result"
    }
   ],
   "source": [
    "l"
   ]
  },
  {
   "cell_type": "code",
   "execution_count": 57,
   "id": "7fd0e4a3-fb41-4146-a4b5-c22bd5a43e96",
   "metadata": {},
   "outputs": [],
   "source": [
    "l.append([True, 54657,4764.577,44,False])"
   ]
  },
  {
   "cell_type": "code",
   "execution_count": 58,
   "id": "c661ab4a-84ed-4832-8d89-92ea1c84e3b9",
   "metadata": {},
   "outputs": [
    {
     "data": {
      "text/plain": [
       "['amit', 'shiv', 'yash', [True, 54657, 4764.577, 44, False]]"
      ]
     },
     "execution_count": 58,
     "metadata": {},
     "output_type": "execute_result"
    }
   ],
   "source": [
    "l"
   ]
  },
  {
   "cell_type": "code",
   "execution_count": 59,
   "id": "0eb419e7-e4c2-47a0-8711-0c2b69032500",
   "metadata": {},
   "outputs": [
    {
     "data": {
      "text/plain": [
       "[True, 54657, 4764.577, 44, False]"
      ]
     },
     "execution_count": 59,
     "metadata": {},
     "output_type": "execute_result"
    }
   ],
   "source": [
    "l.pop(3)"
   ]
  },
  {
   "cell_type": "code",
   "execution_count": 71,
   "id": "5048cece-69bd-40e8-b541-e34352068109",
   "metadata": {},
   "outputs": [
    {
     "data": {
      "text/plain": [
       "['amit', 'shiv', 'yash', True, 54657, 4764.577, 77, False]"
      ]
     },
     "execution_count": 71,
     "metadata": {},
     "output_type": "execute_result"
    }
   ],
   "source": [
    "l"
   ]
  },
  {
   "cell_type": "code",
   "execution_count": 70,
   "id": "f9645580-1db4-455c-b11a-b363ed9f6eaf",
   "metadata": {},
   "outputs": [],
   "source": [
    "l.append(False)"
   ]
  },
  {
   "cell_type": "code",
   "execution_count": 72,
   "id": "1e76e51f-903d-4e02-9f2b-f681556e58d9",
   "metadata": {},
   "outputs": [],
   "source": [
    "l1_num=[]\n",
    "l1_bool=[]\n",
    "l1_str=[]"
   ]
  },
  {
   "cell_type": "code",
   "execution_count": 73,
   "id": "27fc421c-12eb-47db-a05a-9deb42a50e92",
   "metadata": {},
   "outputs": [],
   "source": [
    "for i in l:\n",
    "    if type(i) == int or type(i) == float:\n",
    "        l1_num.append(i)\n",
    "    elif type(i) == bool:\n",
    "        l1_bool.append(i)\n",
    "    else:\n",
    "        l1_str.append(i)"
   ]
  },
  {
   "cell_type": "code",
   "execution_count": 74,
   "id": "1b8f8798-2b57-40d7-8c67-e98d5c29e1e0",
   "metadata": {},
   "outputs": [
    {
     "data": {
      "text/plain": [
       "['amit', 'shiv', 'yash', True, 54657, 4764.577, 77, False]"
      ]
     },
     "execution_count": 74,
     "metadata": {},
     "output_type": "execute_result"
    }
   ],
   "source": [
    "l"
   ]
  },
  {
   "cell_type": "code",
   "execution_count": 75,
   "id": "01ea9b33-92a6-45f4-abe4-03911b855031",
   "metadata": {},
   "outputs": [
    {
     "data": {
      "text/plain": [
       "[True, False]"
      ]
     },
     "execution_count": 75,
     "metadata": {},
     "output_type": "execute_result"
    }
   ],
   "source": [
    "l1_bool"
   ]
  },
  {
   "cell_type": "code",
   "execution_count": 76,
   "id": "a3b57455-a64b-4291-87c6-13136240bf8f",
   "metadata": {},
   "outputs": [
    {
     "data": {
      "text/plain": [
       "[54657, 4764.577, 77]"
      ]
     },
     "execution_count": 76,
     "metadata": {},
     "output_type": "execute_result"
    }
   ],
   "source": [
    "l1_num"
   ]
  },
  {
   "cell_type": "code",
   "execution_count": 77,
   "id": "9d8233bd-a36e-4d00-86f8-62cbace52bee",
   "metadata": {},
   "outputs": [
    {
     "data": {
      "text/plain": [
       "['amit', 'shiv', 'yash']"
      ]
     },
     "execution_count": 77,
     "metadata": {},
     "output_type": "execute_result"
    }
   ],
   "source": [
    "l1_str"
   ]
  },
  {
   "cell_type": "code",
   "execution_count": null,
   "id": "1bf41bd5-c8d1-4a50-af43-714c5a4e81a8",
   "metadata": {},
   "outputs": [],
   "source": []
  }
 ],
 "metadata": {
  "kernelspec": {
   "display_name": "Python 3 (ipykernel)",
   "language": "python",
   "name": "python3"
  },
  "language_info": {
   "codemirror_mode": {
    "name": "ipython",
    "version": 3
   },
   "file_extension": ".py",
   "mimetype": "text/x-python",
   "name": "python",
   "nbconvert_exporter": "python",
   "pygments_lexer": "ipython3",
   "version": "3.10.8"
  }
 },
 "nbformat": 4,
 "nbformat_minor": 5
}
